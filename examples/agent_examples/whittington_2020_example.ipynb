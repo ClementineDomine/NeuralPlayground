{
 "cells": [
  {
   "cell_type": "markdown",
   "metadata": {},
   "source": [
    "## Plotting Results"
   ]
  },
  {
   "cell_type": "code",
   "execution_count": null,
   "metadata": {},
   "outputs": [],
   "source": [
    "import importlib\n",
    "import os\n",
    "import pickle\n",
    "import pandas as pd\n",
    "import torch\n",
    "import matplotlib.pyplot as plt\n",
    "\n",
    "import neuralplayground.agents.whittington_2020_extras.whittington_2020_analyse as analyse\n",
    "from neuralplayground.plotting import PlotSim"
   ]
  },
  {
   "cell_type": "code",
   "execution_count": null,
   "metadata": {},
   "outputs": [],
   "source": [
    "simulation_id = \"TEM_custom_plot_sim\"\n",
    "from neuralplayground.saved_models import fetch_model_path\n",
    "save_path = fetch_model_path(\"tem_in_2D\")\n",
    "training_dict = pd.read_pickle(os.path.join(os.getcwd(), save_path, \"params.dict\"))\n",
    "model_weights = pd.read_pickle(os.path.join(save_path, \"agent\"))\n",
    "model_spec = importlib.util.spec_from_file_location(\"model\", save_path + \"whittington_2020_model.py\")\n",
    "model = importlib.util.module_from_spec(model_spec)\n",
    "model_spec.loader.exec_module(model)\n",
    "params = pd.read_pickle(os.path.join(save_path, \"agent_hyper\"))\n",
    "tem = model.Model(params)\n",
    "tem.load_state_dict(model_weights)\n",
    "tem.eval()"
   ]
  },
  {
   "cell_type": "code",
   "execution_count": null,
   "metadata": {},
   "outputs": [],
   "source": [
    "plotting_loop_params = {\"n_episode\": 5000}\n",
    "sim = PlotSim(\n",
    "    simulation_id=simulation_id,\n",
    "    agent_class=training_dict[\"agent_class\"],\n",
    "    agent_params=training_dict[\"agent_params\"],\n",
    "    env_class=training_dict[\"env_class\"],\n",
    "    env_params=training_dict[\"env_params\"],\n",
    "    plotting_loop_params=plotting_loop_params,\n",
    ")\n",
    "print(sim)"
   ]
  },
  {
   "cell_type": "code",
   "execution_count": null,
   "metadata": {},
   "outputs": [],
   "source": [
    "trained_agent, trained_env = sim.plot_sim(save_path, n_walks=1, random_state=False, custom_state=[0.5,0.5])\n",
    "trained_env.plot_trajectory()\n",
    "# Load environments and model_input using pickle\n",
    "with open(os.path.join(save_path, \"NPG_environments.pkl\"), \"rb\") as f:\n",
    "    environments = pickle.load(f)\n",
    "with open(os.path.join(save_path, \"NPG_model_input.pkl\"), \"rb\") as f:\n",
    "    model_input = pickle.load(f)"
   ]
  },
  {
   "cell_type": "code",
   "execution_count": null,
   "metadata": {},
   "outputs": [],
   "source": [
    "training_dict[\"params\"] = training_dict[\"agent_params\"]\n",
    "del training_dict[\"agent_params\"]\n",
    "agent = training_dict[\"agent_class\"](**training_dict[\"params\"])"
   ]
  },
  {
   "cell_type": "code",
   "execution_count": null,
   "metadata": {},
   "outputs": [],
   "source": [
    "with torch.no_grad():\n",
    "    forward = tem(model_input, prev_iter=None)"
   ]
  },
  {
   "cell_type": "code",
   "execution_count": null,
   "metadata": {},
   "outputs": [],
   "source": [
    "include_stay_still = False\n",
    "shiny_envs = [False, False, False, False]\n",
    "env_to_plot = 0\n",
    "envs_to_avg = shiny_envs if shiny_envs[env_to_plot] else [not shiny_env\n",
    "                                                           for shiny_env in shiny_envs]"
   ]
  },
  {
   "cell_type": "code",
   "execution_count": null,
   "metadata": {},
   "outputs": [],
   "source": [
    "correct_model, correct_node, correct_edge = analyse.compare_to_agents(\n",
    "    forward, tem, environments, include_stay_still=include_stay_still)\n",
    "zero_shot = analyse.zero_shot(forward, tem, environments, \n",
    "                              include_stay_still=include_stay_still)\n",
    "occupation = analyse.location_occupation(forward, tem, environments)\n",
    "g, p = analyse.rate_map(forward, tem, environments)\n",
    "from_acc, to_acc = analyse.location_accuracy(forward, tem, environments)"
   ]
  },
  {
   "cell_type": "markdown",
   "metadata": {},
   "source": [
    "#### Grid cell rate maps"
   ]
  },
  {
   "cell_type": "code",
   "execution_count": null,
   "metadata": {},
   "outputs": [],
   "source": [
    "agent.plot_rate_map(g);"
   ]
  },
  {
   "cell_type": "markdown",
   "metadata": {},
   "source": [
    "#### Place cell rate maps"
   ]
  },
  {
   "cell_type": "code",
   "execution_count": null,
   "metadata": {},
   "outputs": [],
   "source": [
    "agent.plot_rate_map(p);"
   ]
  },
  {
   "cell_type": "markdown",
   "metadata": {},
   "source": [
    "#### Gridscore"
   ]
  },
  {
   "cell_type": "code",
   "execution_count": null,
   "metadata": {},
   "outputs": [],
   "source": []
  }
 ],
 "metadata": {
  "kernelspec": {
   "display_name": "Python 3 (ipykernel)",
   "language": "python",
   "name": "python3"
  },
  "language_info": {
   "codemirror_mode": {
    "name": "ipython",
    "version": 3
   },
   "file_extension": ".py",
   "mimetype": "text/x-python",
   "name": "python",
   "nbconvert_exporter": "python",
   "pygments_lexer": "ipython3",
   "version": "3.10.12"
  },
  "vscode": {
   "interpreter": {
    "hash": "15eb1741d065afa063da15f1869d764f528c76a045e5183fc55e415d39bfb68e"
   }
  }
 },
 "nbformat": 4,
 "nbformat_minor": 4
}
