{
 "cells": [
  {
   "cell_type": "markdown",
   "metadata": {},
   "source": [
    "# Plotting Results\n"
   ]
  },
  {
   "cell_type": "code",
   "execution_count": 4,
   "metadata": {},
   "outputs": [],
   "source": [
    "import importlib\n",
    "import os\n",
    "import pickle\n",
    "import pandas as pd\n",
    "import torch\n",
    "import matplotlib.pyplot as plt\n",
    "\n",
    "import neuralplayground.agents.whittington_2020_extras.whittington_2020_analyse as analyse\n",
    "from neuralplayground.plotting import PlotSim\n",
    "from neuralplayground.comparison import GridScorer"
   ]
  },
  {
   "cell_type": "code",
   "execution_count": 5,
   "metadata": {},
   "outputs": [
    {
     "name": "stdout",
     "output_type": "stream",
     "text": [
      "/Users/clementine/Documents/UCL/NeuralPlayground/examples/agent_examples/results_sim/params.dict\n"
     ]
    },
    {
     "data": {
      "text/plain": [
       "Model(\n",
       "  (alpha): ParameterList(\n",
       "      (0): Parameter containing: [torch.float32 of size ]\n",
       "      (1): Parameter containing: [torch.float32 of size ]\n",
       "      (2): Parameter containing: [torch.float32 of size ]\n",
       "      (3): Parameter containing: [torch.float32 of size ]\n",
       "      (4): Parameter containing: [torch.float32 of size ]\n",
       "  )\n",
       "  (w_p): ParameterList(\n",
       "      (0): Parameter containing: [torch.float32 of size ]\n",
       "      (1): Parameter containing: [torch.float32 of size ]\n",
       "      (2): Parameter containing: [torch.float32 of size ]\n",
       "      (3): Parameter containing: [torch.float32 of size ]\n",
       "      (4): Parameter containing: [torch.float32 of size ]\n",
       "  )\n",
       "  (g_init): ParameterList(\n",
       "      (0): Parameter containing: [torch.float32 of size 30]\n",
       "      (1): Parameter containing: [torch.float32 of size 30]\n",
       "      (2): Parameter containing: [torch.float32 of size 24]\n",
       "      (3): Parameter containing: [torch.float32 of size 18]\n",
       "      (4): Parameter containing: [torch.float32 of size 18]\n",
       "  )\n",
       "  (logsig_g_init): ParameterList(\n",
       "      (0): Parameter containing: [torch.float32 of size 30]\n",
       "      (1): Parameter containing: [torch.float32 of size 30]\n",
       "      (2): Parameter containing: [torch.float32 of size 24]\n",
       "      (3): Parameter containing: [torch.float32 of size 18]\n",
       "      (4): Parameter containing: [torch.float32 of size 18]\n",
       "  )\n",
       "  (MLP_D_a): MLP(\n",
       "    (w): ModuleList(\n",
       "      (0): ModuleList(\n",
       "        (0): Linear(in_features=4, out_features=20, bias=True)\n",
       "        (1): Linear(in_features=20, out_features=3600, bias=False)\n",
       "      )\n",
       "      (1): ModuleList(\n",
       "        (0): Linear(in_features=4, out_features=20, bias=True)\n",
       "        (1): Linear(in_features=20, out_features=2700, bias=False)\n",
       "      )\n",
       "      (2): ModuleList(\n",
       "        (0): Linear(in_features=4, out_features=20, bias=True)\n",
       "        (1): Linear(in_features=20, out_features=1440, bias=False)\n",
       "      )\n",
       "      (3): ModuleList(\n",
       "        (0): Linear(in_features=4, out_features=20, bias=True)\n",
       "        (1): Linear(in_features=20, out_features=648, bias=False)\n",
       "      )\n",
       "      (4): ModuleList(\n",
       "        (0): Linear(in_features=4, out_features=20, bias=True)\n",
       "        (1): Linear(in_features=20, out_features=324, bias=False)\n",
       "      )\n",
       "    )\n",
       "  )\n",
       "  (D_no_a): ParameterList(\n",
       "      (0): Parameter containing: [torch.float32 of size 3600]\n",
       "      (1): Parameter containing: [torch.float32 of size 2700]\n",
       "      (2): Parameter containing: [torch.float32 of size 1440]\n",
       "      (3): Parameter containing: [torch.float32 of size 648]\n",
       "      (4): Parameter containing: [torch.float32 of size 324]\n",
       "  )\n",
       "  (MLP_sigma_g_path): MLP(\n",
       "    (w): ModuleList(\n",
       "      (0-1): 2 x ModuleList(\n",
       "        (0): Linear(in_features=30, out_features=60, bias=True)\n",
       "        (1): Linear(in_features=60, out_features=30, bias=True)\n",
       "      )\n",
       "      (2): ModuleList(\n",
       "        (0): Linear(in_features=24, out_features=48, bias=True)\n",
       "        (1): Linear(in_features=48, out_features=24, bias=True)\n",
       "      )\n",
       "      (3-4): 2 x ModuleList(\n",
       "        (0): Linear(in_features=18, out_features=36, bias=True)\n",
       "        (1): Linear(in_features=36, out_features=18, bias=True)\n",
       "      )\n",
       "    )\n",
       "  )\n",
       "  (MLP_sigma_p): MLP(\n",
       "    (w): ModuleList(\n",
       "      (0-1): 2 x ModuleList(\n",
       "        (0-1): 2 x Linear(in_features=100, out_features=100, bias=True)\n",
       "      )\n",
       "      (2): ModuleList(\n",
       "        (0-1): 2 x Linear(in_features=80, out_features=80, bias=True)\n",
       "      )\n",
       "      (3-4): 2 x ModuleList(\n",
       "        (0-1): 2 x Linear(in_features=60, out_features=60, bias=True)\n",
       "      )\n",
       "    )\n",
       "  )\n",
       "  (MLP_mu_g_mem): MLP(\n",
       "    (w): ModuleList(\n",
       "      (0-1): 2 x ModuleList(\n",
       "        (0): Linear(in_features=10, out_features=60, bias=True)\n",
       "        (1): Linear(in_features=60, out_features=30, bias=True)\n",
       "      )\n",
       "      (2): ModuleList(\n",
       "        (0): Linear(in_features=8, out_features=48, bias=True)\n",
       "        (1): Linear(in_features=48, out_features=24, bias=True)\n",
       "      )\n",
       "      (3-4): 2 x ModuleList(\n",
       "        (0): Linear(in_features=6, out_features=36, bias=True)\n",
       "        (1): Linear(in_features=36, out_features=18, bias=True)\n",
       "      )\n",
       "    )\n",
       "  )\n",
       "  (MLP_sigma_g_mem): MLP(\n",
       "    (w): ModuleList(\n",
       "      (0-1): 2 x ModuleList(\n",
       "        (0): Linear(in_features=2, out_features=60, bias=True)\n",
       "        (1): Linear(in_features=60, out_features=30, bias=True)\n",
       "      )\n",
       "      (2): ModuleList(\n",
       "        (0): Linear(in_features=2, out_features=48, bias=True)\n",
       "        (1): Linear(in_features=48, out_features=24, bias=True)\n",
       "      )\n",
       "      (3-4): 2 x ModuleList(\n",
       "        (0): Linear(in_features=2, out_features=36, bias=True)\n",
       "        (1): Linear(in_features=36, out_features=18, bias=True)\n",
       "      )\n",
       "    )\n",
       "  )\n",
       "  (MLP_mu_g_shiny): MLP(\n",
       "    (w): ModuleList(\n",
       "      (0-1): 2 x ModuleList(\n",
       "        (0): Linear(in_features=1, out_features=60, bias=True)\n",
       "        (1): Linear(in_features=60, out_features=30, bias=True)\n",
       "      )\n",
       "      (2): ModuleList(\n",
       "        (0): Linear(in_features=1, out_features=48, bias=True)\n",
       "        (1): Linear(in_features=48, out_features=24, bias=True)\n",
       "      )\n",
       "      (3-4): 2 x ModuleList(\n",
       "        (0): Linear(in_features=1, out_features=36, bias=True)\n",
       "        (1): Linear(in_features=36, out_features=18, bias=True)\n",
       "      )\n",
       "    )\n",
       "  )\n",
       "  (MLP_sigma_g_shiny): MLP(\n",
       "    (w): ModuleList(\n",
       "      (0-1): 2 x ModuleList(\n",
       "        (0): Linear(in_features=1, out_features=60, bias=True)\n",
       "        (1): Linear(in_features=60, out_features=30, bias=True)\n",
       "      )\n",
       "      (2): ModuleList(\n",
       "        (0): Linear(in_features=1, out_features=48, bias=True)\n",
       "        (1): Linear(in_features=48, out_features=24, bias=True)\n",
       "      )\n",
       "      (3-4): 2 x ModuleList(\n",
       "        (0): Linear(in_features=1, out_features=36, bias=True)\n",
       "        (1): Linear(in_features=36, out_features=18, bias=True)\n",
       "      )\n",
       "    )\n",
       "  )\n",
       "  (MLP_c_star): MLP(\n",
       "    (w): ModuleList(\n",
       "      (0): ModuleList(\n",
       "        (0): Linear(in_features=10, out_features=200, bias=True)\n",
       "        (1): Linear(in_features=200, out_features=45, bias=True)\n",
       "      )\n",
       "    )\n",
       "  )\n",
       ")"
      ]
     },
     "execution_count": 5,
     "metadata": {},
     "output_type": "execute_result"
    }
   ],
   "source": [
    "simulation_id = \"TEM_custom_plot_sim\"\n",
    "from neuralplayground.saved_models import fetch_model_path\n",
    "save_path = fetch_model_path(\"tem_in_2D\")\n",
    "\n",
    "save_path= 'results_sim/'\n",
    "print(os.path.join(os.getcwd(), save_path, \"params.dict\"))\n",
    "training_dict = pd.read_pickle(os.path.join(os.getcwd(), save_path, \"params.dict\"))\n",
    "model_weights = pd.read_pickle(os.path.join(save_path, \"agent\"))\n",
    "model_spec = importlib.util.spec_from_file_location(\"model\", save_path + \"whittington_2020_model.py\")\n",
    "model = importlib.util.module_from_spec(model_spec)\n",
    "model_spec.loader.exec_module(model)\n",
    "params = pd.read_pickle(os.path.join(save_path, \"agent_hyper\"))\n",
    "tem = model.Model(params)\n",
    "tem.load_state_dict(model_weights)\n",
    "tem.eval()"
   ]
  },
  {
   "cell_type": "code",
   "execution_count": 6,
   "metadata": {},
   "outputs": [
    {
     "name": "stdout",
     "output_type": "stream",
     "text": [
      "<neuralplayground.plotting.whittington_2020_plotting_utils.PlotSim object at 0x19363f9a0>\n"
     ]
    }
   ],
   "source": [
    "plotting_loop_params = {\"n_episode\": 5000}\n",
    "sim = PlotSim(\n",
    "    simulation_id=simulation_id,\n",
    "    agent_class=training_dict[\"agent_class\"],\n",
    "    agent_params=training_dict[\"agent_params\"],\n",
    "    env_class=training_dict[\"env_class\"],\n",
    "    env_params=training_dict[\"env_params\"],\n",
    "    plotting_loop_params=plotting_loop_params,\n",
    ")\n",
    "print(sim)"
   ]
  },
  {
   "cell_type": "code",
   "execution_count": 7,
   "metadata": {},
   "outputs": [
    {
     "name": "stdout",
     "output_type": "stream",
     "text": [
      "---> Initializing models\n",
      "---> Plotting loop\n",
      "---> Finished\n"
     ]
    },
    {
     "data": {
      "image/png": "[encoded data removed]",
      "text/plain": [
       "<Figure size 800x600 with 2 Axes>"
      ]
     },
     "metadata": {},
     "output_type": "display_data"
    }
   ],
   "source": [
    "trained_agent, trained_env = sim.plot_sim(save_path, n_walks=1000, random_state=False, custom_state=[0.5,0.5])\n",
    "trained_env.plot_trajectory()\n",
    "# Load environments and model_input using pickle\n",
    "with open(os.path.join(save_path, \"NPG_environments.pkl\"), \"rb\") as f:\n",
    "    environments = pickle.load(f)\n",
    "with open(os.path.join(save_path, \"NPG_model_input.pkl\"), \"rb\") as f:\n",
    "    model_input = pickle.load(f)"
   ]
  },
  {
   "cell_type": "code",
   "execution_count": 8,
   "metadata": {},
   "outputs": [],
   "source": [
    "training_dict[\"params\"] = training_dict[\"agent_params\"]\n",
    "del training_dict[\"agent_params\"]\n",
    "agent = training_dict[\"agent_class\"](**training_dict[\"params\"])"
   ]
  },
  {
   "cell_type": "code",
   "execution_count": 9,
   "metadata": {},
   "outputs": [],
   "source": [
    "with torch.no_grad():\n",
    "    forward = tem(model_input, prev_iter=None)"
   ]
  },
  {
   "cell_type": "code",
   "execution_count": 10,
   "metadata": {},
   "outputs": [],
   "source": [
    "include_stay_still = False\n",
    "shiny_envs = [False, False, False, False]\n",
    "env_to_plot = 0\n",
    "envs_to_avg = shiny_envs if shiny_envs[env_to_plot] else [not shiny_env\n",
    "                                                           for shiny_env in shiny_envs]\n"
   ]
  },
  {
   "cell_type": "code",
   "execution_count": 11,
   "metadata": {},
   "outputs": [],
   "source": [
    "correct_model, correct_node, correct_edge = analyse.compare_to_agents(\n",
    "    forward, tem, environments, include_stay_still=include_stay_still)\n",
    "zero_shot = analyse.zero_shot(forward, tem, environments, \n",
    "                              include_stay_still=include_stay_still)\n",
    "occupation = analyse.location_occupation(forward, tem, environments)\n",
    "g, p = analyse.rate_map(forward, tem, environments)\n",
    "from_acc, to_acc = analyse.location_accuracy(forward, tem, environments)"
   ]
  },
  {
   "cell_type": "code",
   "execution_count": 12,
   "metadata": {},
   "outputs": [
    {
     "name": "stdout",
     "output_type": "stream",
     "text": [
      "(10, 10)\n",
      "[10, 8, 10, 12, 8, 10, 12, 10, 8, 10, 12, 10, 8, 10, 12, 10]\n"
     ]
    },
    {
     "ename": "NameError",
     "evalue": "name 'GridScorer' is not defined",
     "output_type": "error",
     "traceback": [
      "\u001b[0;31m---------------------------------------------------------------------------\u001b[0m",
      "\u001b[0;31mNameError\u001b[0m                                 Traceback (most recent call last)",
      "Cell \u001b[0;32mIn[12], line 4\u001b[0m\n\u001b[1;32m      2\u001b[0m \u001b[38;5;28mprint\u001b[39m(rate_map_mat\u001b[38;5;241m.\u001b[39mshape)\n\u001b[1;32m      3\u001b[0m \u001b[38;5;28mprint\u001b[39m(agent\u001b[38;5;241m.\u001b[39mroom_depths)\n\u001b[0;32m----> 4\u001b[0m GridScorer \u001b[38;5;241m=\u001b[39m \u001b[43mGridScorer\u001b[49m(rate_map_mat\u001b[38;5;241m.\u001b[39mshape[\u001b[38;5;241m0\u001b[39m])\n\u001b[1;32m      5\u001b[0m GridScorer\u001b[38;5;241m.\u001b[39mplot_grid_score(r_out_im \u001b[38;5;241m=\u001b[39m rate_map_mat, plot\u001b[38;5;241m=\u001b[39m \u001b[38;5;28;01mTrue\u001b[39;00m)\n\u001b[1;32m      6\u001b[0m score \u001b[38;5;241m=\u001b[39m GridScorer\u001b[38;5;241m.\u001b[39mget_scores(rate_map_mat)\n",
      "\u001b[0;31mNameError\u001b[0m: name 'GridScorer' is not defined"
     ]
    }
   ],
   "source": [
    "rate_map_mat = agent.get_rate_map_matrix(g,1,2)\n",
    "print(rate_map_mat.shape)\n",
    "print(agent.room_depths)\n",
    "GridScorer = GridScorer(rate_map_mat.shape[0])\n",
    "GridScorer.plot_grid_score(r_out_im = rate_map_mat, plot= True)\n",
    "score = GridScorer.get_scores(rate_map_mat)\n",
    "print(score)"
   ]
  },
  {
   "cell_type": "markdown",
   "metadata": {},
   "source": [
    "# Grid cell rate maps"
   ]
  },
  {
   "cell_type": "code",
   "execution_count": null,
   "metadata": {},
   "outputs": [],
   "source": [
    "agent.plot_rate_map(g);"
   ]
  },
  {
   "cell_type": "markdown",
   "metadata": {},
   "source": [
    "# Place cell rate maps\n"
   ]
  },
  {
   "cell_type": "code",
   "execution_count": null,
   "metadata": {},
   "outputs": [],
   "source": [
    "agent.plot_rate_map(p);"
   ]
  },
  {
   "cell_type": "code",
   "execution_count": null,
   "metadata": {},
   "outputs": [],
   "source": []
  },
  {
   "cell_type": "code",
   "execution_count": null,
   "metadata": {},
   "outputs": [],
   "source": []
  }
 ],
 "metadata": {
  "kernelspec": {
   "display_name": "Python 3 (ipykernel)",
   "language": "python",
   "name": "python3"
  },
  "language_info": {
   "codemirror_mode": {
    "name": "ipython",
    "version": 3
   },
   "file_extension": ".py",
   "mimetype": "text/x-python",
   "name": "python",
   "nbconvert_exporter": "python",
   "pygments_lexer": "ipython3",
   "version": "3.10.12"
  }
 },
 "nbformat": 4,
 "nbformat_minor": 4
}
